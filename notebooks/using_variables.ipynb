{
 "cells": [
  {
   "cell_type": "markdown",
   "metadata": {},
   "source": [
    "# Using variables\n",
    "\n",
    "In this notebook we will introduce HybridAGI variables and how to use them in your pipelines.\n",
    "\n",
    "Variables are a way to save the output of a tool for later use in your prompts. This mechanism is very convenient for long tasks as you can use the variables to help the system memorize intermediate steps.\n",
    "\n",
    "### Some good practices\n",
    "\n",
    "Like in any programming language there are some good practices. In HybridAGI, the variables are all globals meaning you can access them whenever you want, however to avoid problems it is better to ensure that your variables are populated before using them. So preferably use them inside the same program and ensure that you populate it before using it, like in any programming language.\n",
    "\n",
    "## Setting up the Knowledge Base locally\n",
    "\n",
    "HybridAGI works with a low-latency hybrid vector/graph database called [FalkorDB](https://www.falkordb.com/). This knowledge base should be started when you work with HybridAGI.\n",
    "\n",
    "Start the database using docker with the following command in you terminal:\n",
    "\n",
    "```bash\n",
    "docker run -p 6379:6379 -p 3000:3000 -it --rm falkordb/falkordb:edge\n",
    "```"
   ]
  },
  {
   "cell_type": "code",
   "execution_count": 3,
   "metadata": {},
   "outputs": [
    {
     "name": "stdout",
     "output_type": "stream",
     "text": [
      "\u001b[35m --- Step 0 ---\n",
      "Call Program: main\n",
      "Program Purpose: \n",
      "Write an article about SynaLinks a startup from Toulouse (France) that aim at democratize neuro-symbolic Language Models based agent systems by combining them with traditionnal graph databases.\n",
      "\n",
      "HybridAGI is an AgentOS framework designed for creating explainable and deterministic agent systems suitable for real-world applications.\n",
      "\n",
      "It is the first programmable LM-based Agent that enables you to define its behavior using a **graph-based prompt programming** approach. Unlike other frameworks that view agents as advanced chatbots, we have adopted a methodology that is rooted in computer science, cognitive sciences, and symbolic AI.\n",
      "\n",
      "If DSPy is the PyTorch of LMs Applications, HybridAGI is the equivalent of Keras for LMs Agents systems. HybridAGI is designed for data scientists, prompt engineers, researchers, and AI enthusiasts who love to experiment with AI. It is a \"Build Yourself\" product that focuses on human creativity rather than AI autonomy.\n",
      "\n",
      "The DSL is written in Cypher, and can describe any workflow using 4 types of nodes (Action, Decision, Program, and Control)\n",
      "\u001b[0m\n",
      "\u001b[36m --- Step 1 ---\n",
      "Action Purpose: Write the introduction for a news article on the objective's topic\n",
      "Action: {\n",
      "  \"answer\": \"In the vibrant tech landscape of Toulouse, France, a pioneering startup named SynaLinks is making waves. This innovative company is on a mission to democratize neuro-symbolic Language Models (LMs) based agent systems by integrating them with traditional graph databases. The result? HybridAGI, an AgentOS framework that's revolutionizing the way we create explainable and deterministic agent systems for real-world applications.\\n\\nHybridAGI is more than just a sophisticated chatbot; it's the first programmable LM-based Agent that empowers users to define its behavior using a unique graph-based prompt programming approach. Rooted in computer science, cognitive sciences, and symbolic AI, HybridAGI is poised to redefine the boundaries of AI development.\\n\\nIf you're a data scientist, prompt engineer, researcher, or an AI enthusiast with a penchant for experimentation, HybridAGI is your new playground. This \\\"Build Yourself\\\" product prioritizes human creativity over AI autonomy, offering a fresh perspective on the world of AI development.\\n\\nWritten in Cypher, the DSL of HybridAGI can describe any workflow using four types of nodes: Action, Decision, Program, and Control. Get ready to dive into this exciting new frontier of AI development with SynaLinks and HybridAGI!\"\n",
      "}\u001b[0m\n",
      "\u001b[36m --- Step 2 ---\n",
      "Action Purpose: Write the first paragraph for a news article on the objective's topic\n",
      "Action: {\n",
      "  \"answer\": \"Step into the future of AI development with SynaLinks' HybridAGI. This groundbreaking AgentOS framework is redefining the boundaries of AI by integrating neuro-symbolic Language Models (LMs) with traditional graph databases. With its unique graph-based prompt programming approach, HybridAGI empowers users to create explainable and deterministic agent systems for real-world applications. Whether you're a data scientist, researcher, or AI enthusiast, HybridAGI is your ticket to the next level of AI innovation.\"\n",
      "}\u001b[0m\n",
      "\u001b[36m --- Step 3 ---\n",
      "Action Purpose: Write the second paragraph for a news article on the objective's topic\n",
      "Action: {\n",
      "  \"answer\": \"HybridAGI is not just another AI tool; it's a revolutionary AgentOS framework that combines the power of neuro-symbolic Language Models (LMs) with traditional graph databases. This unique blend allows for the creation of agent systems that are both explainable and deterministic, making them ideal for real-world applications. The technology behind HybridAGI is rooted in cutting-edge research areas such as computer science, cognitive sciences, and symbolic AI, positioning it at the forefront of AI development.\"\n",
      "}\u001b[0m\n",
      "\u001b[36m --- Step 4 ---\n",
      "Action Purpose: Write the third paragraph for a news article on the objective's topic\n",
      "Action: {\n",
      "  \"answer\": \"Imagine a world where AI agents can understand and respond to complex human requests with ease, learn from their interactions, and adapt their behavior accordingly. This is the promise of HybridAGI, a game-changing AgentOS framework that's set to transform various industries. From customer service chatbots that can handle queries with nuanced language, to personalized AI tutors that adapt to each student's learning style, the potential applications of HybridAGI are endless.\"\n",
      "}\u001b[0m\n",
      "\u001b[36m --- Step 5 ---\n",
      "Action Purpose: Write the conclusion\n",
      "Action: {\n",
      "  \"answer\": \"In the realm of AI, SynaLinks' HybridAGI stands as a beacon of innovation. This groundbreaking AgentOS framework is not just another tool; it's a leap forward in AI development, bridging the gap between traditional graph databases and neuro-symbolic Language Models. With its unique graph-based prompt programming approach, HybridAGI promises to revolutionize various industries, from customer service to education, by creating agent systems that understand, learn, and adapt with ease. Embrace the future with HybridAGI, where AI agents become more human-like than ever before.\"\n",
      "}\u001b[0m\n",
      "\u001b[36m --- Step 6 ---\n",
      "Action Purpose: Write the final version of the article in markdown format\n",
      "Action: {\n",
      "  \"message\": \"```markdown\\n# Step into the Future of AI Development with SynaLinks' HybridAGI\\n\\nHybridAGI is a groundbreaking AgentOS framework that integrates neuro-symbolic Language Models (LMs) with traditional graph databases, redefining the boundaries of AI. With its unique graph-based prompt programming approach, HybridAGI empowers users to create explainable and deterministic agent systems for real-world applications.\\n\\nHybridAGI is not just another AI tool; it's a revolutionary AgentOS framework that combines the power of neuro-symbolic Language Models (LMs) with traditional graph databases. Imagine a world where AI agents can understand and respond to complex human requests with ease, learn from their interactions, and adapt their behavior accordingly. This is the promise of HybridAGI, a game-changing AgentOS framework that's set to transform various industries.\\n\\nFrom customer service chatbots that can handle queries with nuanced language, to personalized AI tutors that adapt to each student's learning style, the potential applications of HybridAGI are endless. Embrace the future with HybridAGI, where AI agents become more human-like than ever before.\\n```\"\n",
      "}\u001b[0m\n",
      "\u001b[35m --- Step 7 ---\n",
      "End Program: main\u001b[0m\n",
      "\u001b[33mFinal Answer:\n",
      "\n",
      "```markdown\n",
      "# Step into the Future of AI Development with SynaLinks' HybridAGI\n",
      "\n",
      "HybridAGI is a groundbreaking AgentOS framework that integrates neuro-symbolic Language Models (LMs) with traditional graph databases, redefining the boundaries of AI. With its unique graph-based prompt programming approach, HybridAGI empowers users to create explainable and deterministic agent systems for real-world applications.\n",
      "\n",
      "HybridAGI is not just another AI tool; it's a revolutionary AgentOS framework that combines the power of neuro-symbolic Language Models (LMs) with traditional graph databases. Imagine a world where AI agents can understand and respond to complex human requests with ease, learn from their interactions, and adapt their behavior accordingly. This is the promise of HybridAGI, a game-changing AgentOS framework that's set to transform various industries.\n",
      "\n",
      "From customer service chatbots that can handle queries with nuanced language, to personalized AI tutors that adapt to each student's learning style, the potential applications of HybridAGI are endless. Embrace the future with HybridAGI, where AI agents become more human-like than ever before.\n",
      "```\u001b[0m\n",
      "\u001b[32mChat History:\n",
      "\n",
      "[\n",
      "  {\n",
      "    \"role\": \"User\",\n",
      "    \"message\": \"\\nWrite an article about SynaLinks a startup from Toulouse (France) that aim at democratize neuro-symbolic Language Models based agent systems by combining them with traditionnal graph databases.\\n\\nHybridAGI is an AgentOS framework designed for creating explainable and deterministic agent systems suitable for real-world applications.\\n\\nIt is the first programmable LM-based Agent that enables you to define its behavior using a **graph-based prompt programming** approach. Unlike other frameworks that view agents as advanced chatbots, we have adopted a methodology that is rooted in computer science, cognitive sciences, and symbolic AI.\\n\\nIf DSPy is the PyTorch of LMs Applications, HybridAGI is the equivalent of Keras for LMs Agents systems. HybridAGI is designed for data scientists, prompt engineers, researchers, and AI enthusiasts who love to experiment with AI. It is a \\\"Build Yourself\\\" product that focuses on human creativity rather than AI autonomy.\\n\\nThe DSL is written in Cypher, and can describe any workflow using 4 types of nodes (Action, Decision, Program, and Control)\\n\"\n",
      "  },\n",
      "  {\n",
      "    \"role\": \"AI\",\n",
      "    \"message\": \"```markdown\\n# Step into the Future of AI Development with SynaLinks' HybridAGI\\n\\nHybridAGI is a groundbreaking AgentOS framework that integrates neuro-symbolic Language Models (LMs) with traditional graph databases, redefining the boundaries of AI. With its unique graph-based prompt programming approach, HybridAGI empowers users to create explainable and deterministic agent systems for real-world applications.\\n\\nHybridAGI is not just another AI tool; it's a revolutionary AgentOS framework that combines the power of neuro-symbolic Language Models (LMs) with traditional graph databases. Imagine a world where AI agents can understand and respond to complex human requests with ease, learn from their interactions, and adapt their behavior accordingly. This is the promise of HybridAGI, a game-changing AgentOS framework that's set to transform various industries.\\n\\nFrom customer service chatbots that can handle queries with nuanced language, to personalized AI tutors that adapt to each student's learning style, the potential applications of HybridAGI are endless. Embrace the future with HybridAGI, where AI agents become more human-like than ever before.\\n```\"\n",
      "  }\n",
      "]\u001b[0m\n"
     ]
    }
   ],
   "source": [
    "import dspy\n",
    "from hybridagi import HybridAGI\n",
    "\n",
    "# Setup the LM\n",
    "lm = dspy.OllamaLocal(model='mistral', max_tokens=1024, stop=[\"\\n\\n\\n\"])\n",
    "\n",
    "dspy.configure(lm=lm)\n",
    "\n",
    "agent = HybridAGI(\n",
    "    agent_name = \"tutorial_writer_agent\",\n",
    ")\n",
    "\n",
    "agent.add_programs_from_folders([\"programs/using_variables\"])\n",
    "\n",
    "objective = \\\n",
    "f\"\"\"\n",
    "Write an article about SynaLinks a startup from Toulouse (France) that aim at democratize neuro-symbolic Language Models based agent systems by combining them with traditionnal graph databases.\n",
    "\n",
    "HybridAGI is an AgentOS framework designed for creating explainable and deterministic agent systems suitable for real-world applications.\n",
    "\n",
    "It is the first programmable LM-based Agent that enables you to define its behavior using a **graph-based prompt programming** approach. Unlike other frameworks that view agents as advanced chatbots, we have adopted a methodology that is rooted in computer science, cognitive sciences, and symbolic AI.\n",
    "\n",
    "If DSPy is the PyTorch of LMs Applications, HybridAGI is the equivalent of Keras for LMs Agents systems. HybridAGI is designed for data scientists, prompt engineers, researchers, and AI enthusiasts who love to experiment with AI. It is a \"Build Yourself\" product that focuses on human creativity rather than AI autonomy.\n",
    "\n",
    "The DSL is written in Cypher, and can describe any workflow using 4 types of nodes (Action, Decision, Program, and Control)\n",
    "\"\"\"\n",
    "\n",
    "prediction = agent.execute(objective, verbose = True)\n"
   ]
  },
  {
   "cell_type": "code",
   "execution_count": 4,
   "metadata": {},
   "outputs": [
    {
     "name": "stdout",
     "output_type": "stream",
     "text": [
      "```markdown\n",
      "# Step into the Future of AI Development with SynaLinks' HybridAGI\n",
      "\n",
      "HybridAGI is a groundbreaking AgentOS framework that integrates neuro-symbolic Language Models (LMs) with traditional graph databases, redefining the boundaries of AI. With its unique graph-based prompt programming approach, HybridAGI empowers users to create explainable and deterministic agent systems for real-world applications.\n",
      "\n",
      "HybridAGI is not just another AI tool; it's a revolutionary AgentOS framework that combines the power of neuro-symbolic Language Models (LMs) with traditional graph databases. Imagine a world where AI agents can understand and respond to complex human requests with ease, learn from their interactions, and adapt their behavior accordingly. This is the promise of HybridAGI, a game-changing AgentOS framework that's set to transform various industries.\n",
      "\n",
      "From customer service chatbots that can handle queries with nuanced language, to personalized AI tutors that adapt to each student's learning style, the potential applications of HybridAGI are endless. Embrace the future with HybridAGI, where AI agents become more human-like than ever before.\n",
      "```\n"
     ]
    }
   ],
   "source": [
    "#Let's check the final result\n",
    "\n",
    "print(prediction.final_answer)"
   ]
  }
 ],
 "metadata": {
  "kernelspec": {
   "display_name": "venv",
   "language": "python",
   "name": "python3"
  },
  "language_info": {
   "codemirror_mode": {
    "name": "ipython",
    "version": 3
   },
   "file_extension": ".py",
   "mimetype": "text/x-python",
   "name": "python",
   "nbconvert_exporter": "python",
   "pygments_lexer": "ipython3",
   "version": "3.10.12"
  }
 },
 "nbformat": 4,
 "nbformat_minor": 2
}
