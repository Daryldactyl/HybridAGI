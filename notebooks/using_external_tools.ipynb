{
 "cells": [
  {
   "cell_type": "markdown",
   "metadata": {},
   "source": [
    "# Using Externals Tools\n",
    "\n",
    "In this notebook we are going to show you how use the `FunctionTool` to bind a python function to a tool for the Agent system to use.\n",
    "Because we cannot build every tool that people want, we provide an easy way for you to implement them."
   ]
  },
  {
   "cell_type": "code",
   "execution_count": 1,
   "metadata": {},
   "outputs": [
    {
     "name": "stderr",
     "output_type": "stream",
     "text": [
      "/home/yoan/.cache/pypoetry/virtualenvs/hybridagi-B1GoJrSC-py3.10/lib/python3.10/site-packages/tqdm/auto.py:21: TqdmWarning: IProgress not found. Please update jupyter and ipywidgets. See https://ipywidgets.readthedocs.io/en/stable/user_install.html\n",
      "  from .autonotebook import tqdm as notebook_tqdm\n"
     ]
    }
   ],
   "source": [
    "import requests\n",
    "from hybridagi.modules.agents.tools import FunctionTool\n",
    "\n",
    "def get_crypto_price(crypto_name: str):\n",
    "    \"\"\"\n",
    "    Please only give the name of the crypto to fetch like \"bitcoin\" or \"cardano\"\n",
    "    Never explain or apology, only give the crypto name.\n",
    "    \"\"\"\n",
    "    base_url = \"https://api.coingecko.com/api/v3/simple/price?\"\n",
    "    complete_url = base_url + \"ids=\" + crypto_name + \"&vs_currencies=usd\"\n",
    "    response = requests.get(complete_url)\n",
    "    data = response.json()\n",
    "\n",
    "    if crypto_name in data:\n",
    "        return {\"crypto_name\": crypto_name, \"result\": str(data[crypto_name][\"usd\"])+\" USD\"}\n",
    "    else:\n",
    "        return {\"crypto_name\": crypto_name, \"result\": \"Invalid crypto name\"}\n",
    "    \n",
    "my_tool = FunctionTool(\n",
    "    name = \"GetCryptoPrice\",\n",
    "    func = get_crypto_price,\n",
    ")"
   ]
  },
  {
   "cell_type": "code",
   "execution_count": 2,
   "metadata": {},
   "outputs": [
    {
     "name": "stdout",
     "output_type": "stream",
     "text": [
      "// @desc: The main program\n",
      "CREATE\n",
      "// Nodes declaration\n",
      "(start:Control {id: \"start\"}),\n",
      "(end:Control {id: \"end\"}),\n",
      "(is_websearch_needed:Decision {\n",
      "  id: \"is_websearch_needed\",\n",
      "  purpose: \"Check if the Objective's question is about getting the crypto prices\",\n",
      "  question: \"Is the Objective's question about crypto prices?\"\n",
      "}),\n",
      "(fetch_prices:Action {\n",
      "  id: \"fetch_prices\",\n",
      "  purpose: \"Fetch the price of a crypto currency\",\n",
      "  tool: \"GetCryptoPrice\",\n",
      "  prompt: \"Use the Objective's question to infer the search query\"\n",
      "}),\n",
      "(answer:Action {\n",
      "  id: \"answer\",\n",
      "  purpose: \"Answer the Objective's question\",\n",
      "  tool: \"Speak\",\n",
      "  prompt: \"Answer the Objective's question, use your context if relevant\"\n",
      "}),\n",
      "// Structure declaration\n",
      "(start)-[:NEXT]->(is_websearch_needed),\n",
      "(is_websearch_needed)-[:FETCH_PRICES]->(fetch_prices),\n",
      "(is_websearch_needed)-[:ANSWER]->(answer),\n",
      "(fetch_prices)-[:NEXT]->(answer),\n",
      "(answer)-[:NEXT]->(end)\n"
     ]
    }
   ],
   "source": [
    "import hybridagi.core.graph_program as gp\n",
    "\n",
    "main = gp.GraphProgram(\n",
    "    name = \"main\",\n",
    "    description = \"The main program\",\n",
    ")\n",
    "\n",
    "main.add(gp.Decision(\n",
    "    id = \"is_websearch_needed\",\n",
    "    purpose = \"Check if the Objective's question is about getting the crypto prices\",\n",
    "    question = \"Is the Objective's question about crypto prices?\",\n",
    "))\n",
    "\n",
    "main.add(gp.Action(\n",
    "    id = \"fetch_prices\",\n",
    "    purpose = \"Fetch the price of a crypto currency\",\n",
    "    tool = \"GetCryptoPrice\",\n",
    "    prompt = \"Use the Objective's question to infer the search query\",\n",
    "))\n",
    "\n",
    "main.add(gp.Action(\n",
    "    id = \"answer\",\n",
    "    purpose = \"Answer the Objective's question\",\n",
    "    tool = \"Speak\",\n",
    "    prompt = \"Answer the Objective's question, use your context if relevant\",\n",
    "))\n",
    "\n",
    "main.connect(\"start\", \"is_websearch_needed\")\n",
    "main.connect(\"is_websearch_needed\", \"fetch_prices\", label=\"Fetch prices\")\n",
    "main.connect(\"is_websearch_needed\", \"answer\", label=\"Answer\")\n",
    "main.connect(\"fetch_prices\", \"answer\")\n",
    "main.connect(\"answer\", \"end\")\n",
    "\n",
    "main.build()\n",
    "\n",
    "print(main)"
   ]
  },
  {
   "cell_type": "code",
   "execution_count": 3,
   "metadata": {},
   "outputs": [],
   "source": [
    "# We load our program into memory\n",
    "\n",
    "from hybridagi.memory.integration.local import LocalProgramMemory\n",
    "\n",
    "program_memory = LocalProgramMemory(index_name=\"custom_tool\")\n",
    "\n",
    "program_memory.update(main)"
   ]
  },
  {
   "cell_type": "code",
   "execution_count": 4,
   "metadata": {},
   "outputs": [
    {
     "name": "stdout",
     "output_type": "stream",
     "text": [
      "\u001b[35m--- Step 0 ---\n",
      "Call Program: main\n",
      "Program Purpose: What is the price of ethereum?\u001b[0m\n",
      "\u001b[34m--- Step 1 ---\n",
      "Decision Purpose: Check if the Objective's question is about getting the crypto prices\n",
      "Decision Question: Is the Objective's question about crypto prices?\n",
      "Decision: FETCH_PRICES\u001b[0m\n",
      "\u001b[36m--- Step 2 ---\n",
      "Action Purpose: Fetch the price of a crypto currency\n",
      "Action: {\n",
      "  \"crypto_name\": \"ethereum\",\n",
      "  \"result\": \"2467.57 USD\"\n",
      "}\u001b[0m\n",
      "\u001b[36m--- Step 3 ---\n",
      "Action Purpose: Answer the Objective's question\n",
      "Action: {\n",
      "  \"message\": \"The price of Ethereum is currently 2467.57 USD.\"\n",
      "}\u001b[0m\n",
      "\u001b[35m--- Step 4 ---\n",
      "End Program: main\u001b[0m\n",
      "The price of Ethereum is currently 2467.57 USD.\n"
     ]
    }
   ],
   "source": [
    "import dspy\n",
    "from hybridagi.core.datatypes import AgentState, Query\n",
    "from hybridagi.modules.agents import GraphInterpreterAgent\n",
    "from hybridagi.modules.agents.tools import (\n",
    "    SpeakTool,\n",
    ")\n",
    "\n",
    "agent_state = AgentState()\n",
    "\n",
    "tools = [\n",
    "    SpeakTool(\n",
    "        agent_state = agent_state\n",
    "    ),\n",
    "    my_tool,\n",
    "]\n",
    "\n",
    "rag_agent = GraphInterpreterAgent(\n",
    "    program_memory = program_memory,\n",
    "    agent_state = agent_state,\n",
    "    tools = tools,\n",
    "    debug = True,\n",
    ")\n",
    "\n",
    "# We can now setup the LLM using Ollama client from DSPy\n",
    "\n",
    "lm = dspy.OllamaLocal(model='mistral', max_tokens=1024, stop=[\"\\n\\n\\n\"])\n",
    "dspy.configure(lm=lm)\n",
    "\n",
    "# And call our agent\n",
    "\n",
    "result = rag_agent(Query(query=\"What is the price of ethereum?\"))\n",
    "\n",
    "print(result.final_answer)"
   ]
  }
 ],
 "metadata": {
  "kernelspec": {
   "display_name": "hybridagi-B1GoJrSC-py3.10",
   "language": "python",
   "name": "python3"
  },
  "language_info": {
   "codemirror_mode": {
    "name": "ipython",
    "version": 3
   },
   "file_extension": ".py",
   "mimetype": "text/x-python",
   "name": "python",
   "nbconvert_exporter": "python",
   "pygments_lexer": "ipython3",
   "version": "3.10.12"
  }
 },
 "nbformat": 4,
 "nbformat_minor": 2
}
