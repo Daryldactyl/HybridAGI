{
 "cells": [
  {
   "cell_type": "markdown",
   "metadata": {},
   "source": [
    "# Building an agent with an episodic memory\n",
    "\n",
    "The episodic memory is a type of long-term memory that allows us to remember specific events or experiences in our lives. Unlike semantic memory, which stores general knowledge and facts, episodic memory is more focused on personal experiences and the context in which they occurred.\n",
    "\n",
    "In the context of HybridAGI we wanted to ground this concept into Computer Sciences, and what best representation than a memory that store the program traces?\n",
    "\n",
    "In HybridAGI's Trace Memory, each action is vectorized and stored, so the system can retrieve past actions between sessions by using the `PastActionSearch` tool.\n",
    "\n",
    "Note: To avoid recursive recall of memories, we don't store the `PastActionSearch` action.\n",
    "\n",
    "## Setting up the Knowledge Base locally\n",
    "\n",
    "HybridAGI works with a low-latency hybrid vector/graph database called [FalkorDB](https://www.falkordb.com/). This knowledge base should be started when you work with HybridAGI.\n",
    "\n",
    "Start the database using docker with the following command in you terminal:\n",
    "\n",
    "```bash\n",
    "docker run -p 6379:6379 -p 3000:3000 -it --rm falkordb/falkordb:edge\n",
    "```\n",
    "\n",
    "Now let's build a simple example to illustrate the concept"
   ]
  },
  {
   "cell_type": "code",
   "execution_count": 9,
   "metadata": {},
   "outputs": [
    {
     "name": "stdout",
     "output_type": "stream",
     "text": [
      "Neuro-Symbolic AI is a form of composite AI that combines machine learning methods and symbolic systems (for example, knowledge graphs) to create more robust and trustworthy AI models. This combination allows statistical patterns to be combined with explicitly defined rules and knowledge to give AI systems the ability to understand and reason about complex concepts in a human-like manner. It aims to achieve artificial general intelligence by augmenting and combining the strengths of statistical AI, like machine learning, with the capabilities of human-like symbolic knowledge and reasoning.\n"
     ]
    }
   ],
   "source": [
    "import dspy\n",
    "from hybridagi import HybridAGI\n",
    "\n",
    "# Setup the LM\n",
    "lm = dspy.OllamaLocal(model='mistral', max_tokens=1024, stop=[\"\\n\\n\\n\"])\n",
    "\n",
    "dspy.configure(lm=lm)\n",
    "\n",
    "agent = HybridAGI(\n",
    "    agent_name=\"episodic_memory_agent\",\n",
    ")\n",
    "\n",
    "agent.add_programs_from_folders([\"programs/episodic_memory\"])\n",
    "\n",
    "# Now let's try our pipeline\n",
    "prediction = agent.execute(\"What is a neuro-symbolic artificial intelligence?\")\n",
    "\n",
    "print(prediction.final_answer)"
   ]
  },
  {
   "cell_type": "code",
   "execution_count": 10,
   "metadata": {},
   "outputs": [
    {
     "name": "stdout",
     "output_type": "stream",
     "text": [
      " --- Step 0 ---\n",
      "Call Program: main\n",
      "Program Purpose: What is a neuro-symbolic artificial intelligence?\n",
      " --- Step 1 ---\n",
      "Action Purpose: Search past actions to answer the objective's question\n",
      "Action: {\n",
      "  \"query\": \"neuro symbolic AI definition\",\n",
      "  \"past_actions\": []\n",
      "}\n",
      " --- Step 2 ---\n",
      "Decision Purpose: Check if the answer to the objective's question is present in the previous actions search\n",
      "Decision Question: Is the answer in the previous search? if the answer is not present or not relevant select websearch otherwise select answer\n",
      "Decision: WEB_SEARCH\n",
      " --- Step 3 ---\n",
      "Action Purpose: Perform a duckduckgo search\n",
      "Action: {\n",
      "  \"search_query\": \"neuro symbolic AI definition\",\n",
      "  \"results\": [\n",
      "    {\n",
      "      \"title\": \"Neuro-symbolic AI - Wikipedia\",\n",
      "      \"href\": \"https://en.wikipedia.org/wiki/Neuro-symbolic_AI\",\n",
      "      \"body\": \"Neuro-symbolic AI is a type of artificial intelligence that integrates neural and symbolic AI architectures to address the weaknesses of each, providing a robust AI capable of reasoning, learning, and cognitive modeling.As argued by Leslie Valiant and others, the effective construction of rich computational cognitive models demands the combination of symbolic reasoning and efficient machine ...\"\n",
      "    },\n",
      "    {\n",
      "      \"title\": \"Definition of Neuro Symbolic AI - IT Glossary | Gartner\",\n",
      "      \"href\": \"https://www.gartner.com/en/information-technology/glossary/neuro-symbolic-ai\",\n",
      "      \"body\": \"Neuro-Symbolic AI. Neuro-symbolic AI is a form of composite AI that combines machine learning methods and symbolic systems (for example, knowledge graphs) to create more robust and trustworthy AI models. This combination allows statistical patterns to be combined with explicitly defined rules and knowledge to give AI systems the ability to ...\"\n",
      "    },\n",
      "    {\n",
      "      \"title\": \"What is Neuro-Symbolic AI? | Definition from TechTarget\",\n",
      "      \"href\": \"https://www.techtarget.com/searchenterpriseai/definition/neuro-symbolic-AI\",\n",
      "      \"body\": \"Neuro-symbolic AI combines neural networks with rules-based symbolic processing techniques to improve artificial intelligence systems' accuracy, explainability and precision. The neural aspect involves the statistical deep learning techniques used in many types of machine learning. The symbolic aspect points to the rules-based reasoning ...\"\n",
      "    },\n",
      "    {\n",
      "      \"title\": \"Neuro-symbolic AI - IBM Research\",\n",
      "      \"href\": \"https://research.ibm.com/topics/neuro-symbolic-ai\",\n",
      "      \"body\": \"Neuro-symbolic AI. We see Neuro-symbolic AI as a pathway to achieve artificial general intelligence. By augmenting and combining the strengths of statistical AI, like machine learning, with the capabilities of human-like symbolic knowledge and reasoning, we're aiming to create a revolution in AI, rather than an evolution.\"\n",
      "    },\n",
      "    {\n",
      "      \"title\": \"Neurosymbolic AI - Why, What, and How - arXiv.org\",\n",
      "      \"href\": \"https://arxiv.org/pdf/2305.00813\",\n",
      "      \"body\": \"Neurosymbolic AI is a term used to describe techniques that aim to merge the knowledge-based symbolic approach with neural network methods to improve the overall per-formance of AI systems. These systems have the ability to blend the powerful approximation abilities of neural networks with the symbolic reasoning capabilities that enable them\"\n",
      "    }\n",
      "  ]\n",
      "}\n",
      " --- Step 4 ---\n",
      "Action Purpose: Answer the objective's question based on the search\n",
      "Action: {\n",
      "  \"message\": \"Neuro-Symbolic AI is a form of composite AI that combines machine learning methods and symbolic systems (for example, knowledge graphs) to create more robust and trustworthy AI models. This combination allows statistical patterns to be combined with explicitly defined rules and knowledge to give AI systems the ability to understand and reason about complex concepts in a human-like manner. It aims to achieve artificial general intelligence by augmenting and combining the strengths of statistical AI, like machine learning, with the capabilities of human-like symbolic knowledge and reasoning.\"\n",
      "}\n",
      " --- Step 5 ---\n",
      "End Program: main\n"
     ]
    }
   ],
   "source": [
    "# Let's see how the system came up with the answer\n",
    "\n",
    "print(prediction.program_trace)"
   ]
  },
  {
   "cell_type": "markdown",
   "metadata": {},
   "source": [
    "We can observe that the system tried to first remember previous actions\n",
    "\n",
    "Because the trace memory is empty, it decided to perform an additional search using the `DuckDuckGoSearch` tool as instructed in the graph.\n",
    "\n",
    "Now we can try to execute again the same question and see how it answer."
   ]
  },
  {
   "cell_type": "code",
   "execution_count": 11,
   "metadata": {},
   "outputs": [
    {
     "name": "stdout",
     "output_type": "stream",
     "text": [
      "Neuro-Symbolic AI is a form of artificial intelligence that combines machine learning methods and symbolic systems (for example, knowledge graphs) to create more robust and trustworthy AI models. This combination allows statistical patterns to be combined with explicitly defined rules and knowledge to give AI systems the ability to understand and reason about complex concepts in a human-like manner. It aims to achieve artificial general intelligence by augmenting and combining the strengths of statistical AI, like machine learning, with the capabilities of human-like symbolic knowledge and reasoning.\n"
     ]
    }
   ],
   "source": [
    "prediction = agent.execute(\"What is the definition of a Neuro-Symbolic AI?\")\n",
    "\n",
    "print(prediction.final_answer)"
   ]
  },
  {
   "cell_type": "code",
   "execution_count": 12,
   "metadata": {},
   "outputs": [
    {
     "name": "stdout",
     "output_type": "stream",
     "text": [
      " --- Step 0 ---\n",
      "Call Program: main\n",
      "Program Purpose: What is the definition of a Neuro-Symbolic AI?\n",
      " --- Step 1 ---\n",
      "Action Purpose: Search past actions to answer the objective's question\n",
      "Action: {\n",
      "  \"query\": \"definition of Neuro-Symbolic AI\",\n",
      "  \"past_actions\": [\n",
      "    {\n",
      "      \"past_action\": \"{\\n  \\\"message\\\": \\\"Neuro-Symbolic AI is a form of composite AI that combines machine learning methods and symbolic systems (for example, knowledge graphs) to create more robust and trustworthy AI models. This combination allows statistical patterns to be combined with explicitly defined rules and knowledge to give AI systems the ability to understand and reason about complex concepts in a human-like manner. It aims to achieve artificial general intelligence by augmenting and combining the strengths of statistical AI, like machine learning, with the capabilities of human-like symbolic knowledge and reasoning.\\\"\\n}\"\n",
      "    },\n",
      "    {\n",
      "      \"past_action\": \"{\\n  \\\"search_query\\\": \\\"neuro symbolic AI definition\\\",\\n  \\\"results\\\": [\\n    {\\n      \\\"title\\\": \\\"Neuro-symbolic AI - Wikipedia\\\",\\n      \\\"href\\\": \\\"https://en.wikipedia.org/wiki/Neuro-symbolic_AI\\\",\\n      \\\"body\\\": \\\"Neuro-symbolic AI is a type of artificial intelligence that integrates neural and symbolic AI architectures to address the weaknesses of each, providing a robust AI capable of reasoning, learning, and cognitive modeling.As argued by Leslie Valiant and others, the effective construction of rich computational cognitive models demands the combination of symbolic reasoning and efficient machine ...\\\"\\n    },\\n    {\\n      \\\"title\\\": \\\"Definition of Neuro Symbolic AI - IT Glossary | Gartner\\\",\\n      \\\"href\\\": \\\"https://www.gartner.com/en/information-technology/glossary/neuro-symbolic-ai\\\",\\n      \\\"body\\\": \\\"Neuro-Symbolic AI. Neuro-symbolic AI is a form of composite AI that combines machine learning methods and symbolic systems (for example, knowledge graphs) to create more robust and trustworthy AI models. This combination allows statistical patterns to be combined with explicitly defined rules and knowledge to give AI systems the ability to ...\\\"\\n    },\\n    {\\n      \\\"title\\\": \\\"What is Neuro-Symbolic AI? | Definition from TechTarget\\\",\\n      \\\"href\\\": \\\"https://www.techtarget.com/searchenterpriseai/definition/neuro-symbolic-AI\\\",\\n      \\\"body\\\": \\\"Neuro-symbolic AI combines neural networks with rules-based symbolic processing techniques to improve artificial intelligence systems' accuracy, explainability and precision. The neural aspect involves the statistical deep learning techniques used in many types of machine learning. The symbolic aspect points to the rules-based reasoning ...\\\"\\n    },\\n    {\\n      \\\"title\\\": \\\"Neuro-symbolic AI - IBM Research\\\",\\n      \\\"href\\\": \\\"https://research.ibm.com/topics/neuro-symbolic-ai\\\",\\n      \\\"body\\\": \\\"Neuro-symbolic AI. We see Neuro-symbolic AI as a pathway to achieve artificial general intelligence. By augmenting and combining the strengths of statistical AI, like machine learning, with the capabilities of human-like symbolic knowledge and reasoning, we're aiming to create a revolution in AI, rather than an evolution.\\\"\\n    },\\n    {\\n      \\\"title\\\": \\\"Neurosymbolic AI - Why, What, and How - arXiv.org\\\",\\n      \\\"href\\\": \\\"https://arxiv.org/pdf/2305.00813\\\",\\n      \\\"body\\\": \\\"Neurosymbolic AI is a term used to describe techniques that aim to merge the knowledge-based symbolic approach with neural network methods to improve the overall per-formance of AI systems. These systems have the ability to blend the powerful approximation abilities of neural networks with the symbolic reasoning capabilities that enable them\\\"\\n    }\\n  ]\\n}\"\n",
      "    }\n",
      "  ]\n",
      "}\n",
      " --- Step 2 ---\n",
      "Decision Purpose: Check if the answer to the objective's question is present in the previous actions search\n",
      "Decision Question: Is the answer in the previous search? if the answer is not present or not relevant select websearch otherwise select answer\n",
      "Decision: ANSWER\n",
      " --- Step 3 ---\n",
      "Action Purpose: Answer the objective's question based on the search\n",
      "Action: {\n",
      "  \"message\": \"Neuro-Symbolic AI is a form of artificial intelligence that combines machine learning methods and symbolic systems (for example, knowledge graphs) to create more robust and trustworthy AI models. This combination allows statistical patterns to be combined with explicitly defined rules and knowledge to give AI systems the ability to understand and reason about complex concepts in a human-like manner. It aims to achieve artificial general intelligence by augmenting and combining the strengths of statistical AI, like machine learning, with the capabilities of human-like symbolic knowledge and reasoning.\"\n",
      "}\n",
      " --- Step 4 ---\n",
      "End Program: main\n"
     ]
    }
   ],
   "source": [
    "# The answer seem correct, but let's be sure on how it came up with the answer\n",
    "\n",
    "print(prediction.program_trace)"
   ]
  },
  {
   "cell_type": "markdown",
   "metadata": {},
   "source": [
    "As you can see, the system now used the previous actions to answer this question, without needing to perform a websearch again\n",
    "\n",
    "Feel free to explore more on this topic and experiment with HybridAGI graph program's and trace memory!"
   ]
  }
 ],
 "metadata": {
  "kernelspec": {
   "display_name": "venv",
   "language": "python",
   "name": "python3"
  },
  "language_info": {
   "codemirror_mode": {
    "name": "ipython",
    "version": 3
   },
   "file_extension": ".py",
   "mimetype": "text/x-python",
   "name": "python",
   "nbconvert_exporter": "python",
   "pygments_lexer": "ipython3",
   "version": "3.10.12"
  }
 },
 "nbformat": 4,
 "nbformat_minor": 2
}
