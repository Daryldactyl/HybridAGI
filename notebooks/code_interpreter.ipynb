{
 "cells": [
  {
   "cell_type": "markdown",
   "metadata": {},
   "source": [
    "# Code Interpreter Agent\n",
    "\n",
    "In HybridAGI, you can use a Python Code interpreter to perform complex calculations. We first introduce a planning step to populate the prompt with the methodolody to use in the next steps, then we use the code interpreter to compute the answer. To prevent errors in the code we check that the simulation is correct and loop back if not.\n",
    "\n",
    "## Setting up the Knowledge Base locally\n",
    "\n",
    "HybridAGI works with a low-latency hybrid vector/graph database called [FalkorDB](https://www.falkordb.com/). This knowledge base should be started when you work with HybridAGI.\n",
    "\n",
    "Start the database using docker with the following command in your terminal:\n",
    "\n",
    "```bash\n",
    "docker run -p 6379:6379 -p 3000:3000 -it --rm falkordb/falkordb:edge\n",
    "```\n",
    "\n",
    "This process can be described with the following program:"
   ]
  },
  {
   "cell_type": "code",
   "execution_count": 1,
   "metadata": {},
   "outputs": [
    {
     "name": "stderr",
     "output_type": "stream",
     "text": [
      "/home/yoan/Workspace/HybridAGI/venv/lib/python3.10/site-packages/tqdm/auto.py:21: TqdmWarning: IProgress not found. Please update jupyter and ipywidgets. See https://ipywidgets.readthedocs.io/en/stable/user_install.html\n",
      "  from .autonotebook import tqdm as notebook_tqdm\n"
     ]
    },
    {
     "name": "stdout",
     "output_type": "stream",
     "text": [
      "\u001b[35m --- Step 0 ---\n",
      "Call Program: main\n",
      "Program Purpose: A satellite is orbiting the Earth in a circular orbit with a radius of 42,000 km. What is the satellite's orbital speed?\u001b[0m\n",
      "\u001b[36m --- Step 1 ---\n",
      "Action Purpose: Plannify how to implement the code to answer the objective's question\n",
      "Action: {\n",
      "  \"answer\": \"To solve this problem, we will use the equation for orbital speed in a circular orbit, which is given by:\\n\\nv = sqrt[(G * M) / r]\\n\\nwhere:\\n- v is the orbital velocity\\n- G is the gravitational constant (6.674 x 10^-11 m^3 kg^-1 s^-2)\\n- M is the mass of the Earth (5.972 x 10^24 kg)\\n- r is the radius of the orbit (in this case, 42,000 km or 4.2 x 10^7 m)\\n\\nSo, in our code:\\n\\n1. Define constants G and M for the gravitational constant and Earth's mass respectively.\\n2. Convert the given radius from kilometers to meters (since the equation requires meters).\\n3. Calculate the orbital speed using the provided formula.\\n4. Print or return the calculated orbital speed.\"\n",
      "}\u001b[0m\n",
      "The satellite's orbital speed is 3080.5506619681455 m/s.\n",
      "\u001b[36m --- Step 2 ---\n",
      "Action Purpose: Implement the code to answer's the objective question\n",
      "Action: {\n",
      "  \"code\": \"# Import necessary libraries\\nimport math\\n\\n# Define constants\\nG = 6.674 * (10 ** -11)\\nM = 5.972 * (10 ** 24)\\n\\n# Convert radius from kilometers to meters\\nradius = 4.2 * (10 ** 7)\\n\\n# Calculate orbital speed using the provided formula\\norbital_speed = math.sqrt((G * M) / radius)\\n\\n# Print or return the calculated orbital speed\\nprint(\\\"The satellite's orbital speed is\\\", orbital_speed, \\\"m/s.\\\")\",\n",
      "  \"observation\": \"3080.5506619681455\"\n",
      "}\u001b[0m\n",
      "\u001b[36m --- Step 3 ---\n",
      "Action Purpose: Critique the code\n",
      "Action: {\n",
      "  \"answer\": \"The code is correct. It calculates and prints the satellite's orbital speed in meters per second (m/s). However, it would be beneficial to include comments explaining each step of the calculation for better readability. Here's an updated version of the code with added comments:\\n\\n```python\\n# Import necessary libraries\\nimport math\\n\\n# Define constants\\nG = 6.674 * (10 ** -11) # Gravitational constant in m^3 kg^-1 s^-2\\nM = 5.972 * (10 ** 24)   # Mass of the Earth in kg\\n\\n# Convert radius from kilometers to meters (since the equation requires meters)\\nradius = 4.2 * (10 ** 7) # Radius in m\\n\\n# Calculate orbital speed using the provided formula\\norbital_speed = math.sqrt((G * M) / radius) # Orbital speed in m/s\\n\\n# Print or return the calculated orbital speed\\nprint(\\\"The satellite's orbital speed is\\\", orbital_speed, \\\"m/s.\\\")\\n```\"\n",
      "}\u001b[0m\n",
      "\u001b[36m --- Step 5 ---\n",
      "Action Purpose: Answer the objective's question\n",
      "Action: {\n",
      "  \"message\": \"The satellite's orbital speed is 3080.55 m/s.\"\n",
      "}\u001b[0m\n",
      "\u001b[35m --- Step 6 ---\n",
      "End Program: main\u001b[0m\n",
      "\u001b[33mFinal Answer:\n",
      "\n",
      "The satellite's orbital speed is 3080.55 m/s.\u001b[0m\n",
      "\u001b[32mChat History:\n",
      "\n",
      "[\n",
      "  {\n",
      "    \"role\": \"User\",\n",
      "    \"message\": \"A satellite is orbiting the Earth in a circular orbit with a radius of 42,000 km. What is the satellite's orbital speed?\"\n",
      "  },\n",
      "  {\n",
      "    \"role\": \"AI\",\n",
      "    \"message\": \"The satellite's orbital speed is 3080.55 m/s.\"\n",
      "  }\n",
      "]\u001b[0m\n",
      "The satellite's orbital speed is 3080.55 m/s.\n"
     ]
    }
   ],
   "source": [
    "import dspy\n",
    "from hybridagi import HybridAGI\n",
    "\n",
    "# Setup the LM\n",
    "lm = dspy.OllamaLocal(model='mistral', max_tokens=1024, stop=[\"\\n\\n\\n\"])\n",
    "\n",
    "dspy.configure(lm=lm)\n",
    "\n",
    "agent = HybridAGI(\n",
    "    agent_name = \"code_interpreter_agent\",\n",
    ")\n",
    "\n",
    "agent.add_programs_from_folders([\"programs/code_interpreter\"])\n",
    "\n",
    "# Now let's try our pipeline\n",
    "prediction = agent.execute(\"A satellite is orbiting the Earth in a circular orbit with a radius of 42,000 km. What is the satellite's orbital speed?\", verbose=True)\n",
    "\n",
    "print(prediction.final_answer)\n"
   ]
  },
  {
   "cell_type": "code",
   "execution_count": 2,
   "metadata": {},
   "outputs": [
    {
     "name": "stdout",
     "output_type": "stream",
     "text": [
      "\u001b[35m --- Step 0 ---\n",
      "Call Program: main\n",
      "Program Purpose: An object is dropped from a height of 10 m. How long does it take for the object to reach the ground?\u001b[0m\n",
      "\u001b[36m --- Step 1 ---\n",
      "Action Purpose: Plannify how to implement the code to answer the objective's question\n",
      "Action: {\n",
      "  \"answer\": \"To solve this problem, we will use the equation for the time of descent of a freely falling body, which is given by: t = sqrt(2h/g), where h is the height from which the object is dropped, and g is the acceleration due to gravity (approximately 9.81 m/s\\u00b2).\\n\\nIn our case, h = 10 m and g = 9.81 m/s\\u00b2. So, we will code:\\n\\n```python\\n# Define the height and acceleration due to gravity\\nh = 10\\ng = 9.81\\n\\n# Calculate time using the equation t = sqrt(2h/g)\\nt = math.sqrt((2*h)/g)\\n\\n# Print the result\\nprint(\\\"The time it takes for the object to reach the ground is\\\", t, \\\"seconds.\\\")\\n```\"\n",
      "}\u001b[0m\n",
      "The time it takes for the object to reach the ground is 1.4278431229270645 seconds.\n",
      "\u001b[36m --- Step 2 ---\n",
      "Action Purpose: Implement the code to answer's the objective question\n",
      "Action: {\n",
      "  \"code\": \"# Import necessary library for mathematical operations\\nimport math\\n\\n# Define the height and acceleration due to gravity\\nh = 10\\ng = 9.81\\n\\n# Calculate time using the equation t = sqrt(2h/g)\\nt = math.sqrt((2*h)/g)\\n\\n# Print the result\\nprint(\\\"The time it takes for the object to reach the ground is\\\", t, \\\"seconds.\\\")\",\n",
      "  \"observation\": \"1.4278431229270645\"\n",
      "}\u001b[0m\n",
      "\u001b[36m --- Step 3 ---\n",
      "Action Purpose: Critique the code\n",
      "Action: {\n",
      "  \"answer\": \"The code is correct. However, to make it more readable and easier to understand, consider adding comments explaining each step of the calculation. Here's an example:\\n\\n```python\\n# Import necessary library for mathematical operations\\nimport math\\n\\n# Define the height from which the object is dropped (in meters)\\nh = 10\\n\\n# Define the acceleration due to gravity (approximately in m/s^2)\\ng = 9.81\\n\\n# Calculate time using the equation t = sqrt(2h/g)\\nt = math.sqrt((2 * h) / g)\\n\\n# Print the result with a more descriptive message\\nprint(\\\"The time it takes for the object to reach the ground is\\\", t, \\\"seconds.\\\")\\n```\"\n",
      "}\u001b[0m\n",
      "\u001b[36m --- Step 5 ---\n",
      "Action Purpose: Answer the objective's question\n",
      "Action: {\n",
      "  \"message\": \"The time it takes for the object to reach the ground is 1.43 seconds.\"\n",
      "}\u001b[0m\n",
      "\u001b[35m --- Step 6 ---\n",
      "End Program: main\u001b[0m\n",
      "\u001b[33mFinal Answer:\n",
      "\n",
      "The time it takes for the object to reach the ground is 1.43 seconds.\u001b[0m\n",
      "\u001b[32mChat History:\n",
      "\n",
      "[\n",
      "  {\n",
      "    \"role\": \"User\",\n",
      "    \"message\": \"An object is dropped from a height of 10 m. How long does it take for the object to reach the ground?\"\n",
      "  },\n",
      "  {\n",
      "    \"role\": \"AI\",\n",
      "    \"message\": \"The time it takes for the object to reach the ground is 1.43 seconds.\"\n",
      "  }\n",
      "]\u001b[0m\n",
      "The time it takes for the object to reach the ground is 1.43 seconds.\n"
     ]
    }
   ],
   "source": [
    "# Let's try with another one\n",
    "\n",
    "prediction = agent.execute(\"An object is dropped from a height of 10 m. How long does it take for the object to reach the ground?\", verbose=True)\n",
    "\n",
    "print(prediction.final_answer)"
   ]
  }
 ],
 "metadata": {
  "kernelspec": {
   "display_name": "venv",
   "language": "python",
   "name": "python3"
  },
  "language_info": {
   "codemirror_mode": {
    "name": "ipython",
    "version": 3
   },
   "file_extension": ".py",
   "mimetype": "text/x-python",
   "name": "python",
   "nbconvert_exporter": "python",
   "pygments_lexer": "ipython3",
   "version": "3.10.12"
  }
 },
 "nbformat": 4,
 "nbformat_minor": 2
}
